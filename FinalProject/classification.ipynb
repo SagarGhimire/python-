{
 "cells": [
  {
   "cell_type": "code",
   "execution_count": 1,
   "metadata": {},
   "outputs": [
    {
     "name": "stdout",
     "output_type": "stream",
     "text": [
      "<class 'pandas.core.frame.DataFrame'>\n",
      "RangeIndex: 1000 entries, 0 to 999\n",
      "Data columns (total 8 columns):\n",
      "gender                         1000 non-null object\n",
      "race/ethnicity                 1000 non-null object\n",
      "parental level of education    1000 non-null object\n",
      "lunch                          1000 non-null object\n",
      "test preparation course        1000 non-null object\n",
      "math score                     1000 non-null int64\n",
      "reading score                  1000 non-null int64\n",
      "writing score                  1000 non-null int64\n",
      "dtypes: int64(3), object(5)\n",
      "memory usage: 62.6+ KB\n"
     ]
    }
   ],
   "source": [
    "import pandas as pd\n",
    "exam_data = pd.read_csv(\"StudentsPerformance.csv\")\n",
    "exam_data.info()"
   ]
  },
  {
   "cell_type": "markdown",
   "metadata": {},
   "source": [
    "Since there is not any null values. So I guess, I wouldn't have to clean the dataset. But let's map the values to the datasets.\n"
   ]
  },
  {
   "cell_type": "code",
   "execution_count": 2,
   "metadata": {},
   "outputs": [
    {
     "data": {
      "text/html": [
       "<div>\n",
       "<style scoped>\n",
       "    .dataframe tbody tr th:only-of-type {\n",
       "        vertical-align: middle;\n",
       "    }\n",
       "\n",
       "    .dataframe tbody tr th {\n",
       "        vertical-align: top;\n",
       "    }\n",
       "\n",
       "    .dataframe thead th {\n",
       "        text-align: right;\n",
       "    }\n",
       "</style>\n",
       "<table border=\"1\" class=\"dataframe\">\n",
       "  <thead>\n",
       "    <tr style=\"text-align: right;\">\n",
       "      <th></th>\n",
       "      <th>gender</th>\n",
       "      <th>race/ethnicity</th>\n",
       "      <th>parental level of education</th>\n",
       "      <th>lunch</th>\n",
       "      <th>test preparation course</th>\n",
       "      <th>math score</th>\n",
       "      <th>reading score</th>\n",
       "      <th>writing score</th>\n",
       "      <th>parent_level</th>\n",
       "      <th>gender_int</th>\n",
       "      <th>avg_score</th>\n",
       "      <th>test_int</th>\n",
       "    </tr>\n",
       "  </thead>\n",
       "  <tbody>\n",
       "    <tr>\n",
       "      <th>0</th>\n",
       "      <td>female</td>\n",
       "      <td>group B</td>\n",
       "      <td>bachelor's degree</td>\n",
       "      <td>standard</td>\n",
       "      <td>none</td>\n",
       "      <td>72</td>\n",
       "      <td>72</td>\n",
       "      <td>74</td>\n",
       "      <td>5</td>\n",
       "      <td>0</td>\n",
       "      <td>72</td>\n",
       "      <td>0</td>\n",
       "    </tr>\n",
       "    <tr>\n",
       "      <th>1</th>\n",
       "      <td>female</td>\n",
       "      <td>group C</td>\n",
       "      <td>some college</td>\n",
       "      <td>standard</td>\n",
       "      <td>completed</td>\n",
       "      <td>69</td>\n",
       "      <td>90</td>\n",
       "      <td>88</td>\n",
       "      <td>3</td>\n",
       "      <td>0</td>\n",
       "      <td>82</td>\n",
       "      <td>1</td>\n",
       "    </tr>\n",
       "    <tr>\n",
       "      <th>2</th>\n",
       "      <td>female</td>\n",
       "      <td>group B</td>\n",
       "      <td>master's degree</td>\n",
       "      <td>standard</td>\n",
       "      <td>none</td>\n",
       "      <td>90</td>\n",
       "      <td>95</td>\n",
       "      <td>93</td>\n",
       "      <td>6</td>\n",
       "      <td>0</td>\n",
       "      <td>92</td>\n",
       "      <td>0</td>\n",
       "    </tr>\n",
       "    <tr>\n",
       "      <th>3</th>\n",
       "      <td>male</td>\n",
       "      <td>group A</td>\n",
       "      <td>associate's degree</td>\n",
       "      <td>free/reduced</td>\n",
       "      <td>none</td>\n",
       "      <td>47</td>\n",
       "      <td>57</td>\n",
       "      <td>44</td>\n",
       "      <td>4</td>\n",
       "      <td>1</td>\n",
       "      <td>49</td>\n",
       "      <td>0</td>\n",
       "    </tr>\n",
       "    <tr>\n",
       "      <th>4</th>\n",
       "      <td>male</td>\n",
       "      <td>group C</td>\n",
       "      <td>some college</td>\n",
       "      <td>standard</td>\n",
       "      <td>none</td>\n",
       "      <td>76</td>\n",
       "      <td>78</td>\n",
       "      <td>75</td>\n",
       "      <td>3</td>\n",
       "      <td>1</td>\n",
       "      <td>76</td>\n",
       "      <td>0</td>\n",
       "    </tr>\n",
       "  </tbody>\n",
       "</table>\n",
       "</div>"
      ],
      "text/plain": [
       "   gender race/ethnicity   ...    avg_score test_int\n",
       "0  female        group B   ...           72        0\n",
       "1  female        group C   ...           82        1\n",
       "2  female        group B   ...           92        0\n",
       "3    male        group A   ...           49        0\n",
       "4    male        group C   ...           76        0\n",
       "\n",
       "[5 rows x 12 columns]"
      ]
     },
     "execution_count": 2,
     "metadata": {},
     "output_type": "execute_result"
    }
   ],
   "source": [
    "# Function that would map the string value of parental education to interger\n",
    "def refine_ParentalEdu(value):\n",
    "    count =0\n",
    "    if(value == \"master's degree\"):\n",
    "        count = 6\n",
    "    elif (value == \"bachelor's degree\"):\n",
    "        count = 5\n",
    "    elif(value == \"associate's degree\"):\n",
    "        count =4\n",
    "    elif(value == \"some college\"):\n",
    "        count =3\n",
    "    elif(value == \"high school\"):\n",
    "        count =2\n",
    "    else:\n",
    "        count =1\n",
    "    return count\n",
    "\n",
    "\n",
    "def gender(val):\n",
    "    if(val==\"female\"):\n",
    "        return 0\n",
    "    else:\n",
    "        return 1\n",
    "def test_prep(val):\n",
    "    if(val == 'completed'):\n",
    "        return 1\n",
    "    else:\n",
    "        return 0\n",
    "def avg(math,read, writing):\n",
    "    return (math+read+writing)//3\n",
    "#Mapping the integer values to string values of Parent education \n",
    "parental_int = exam_data[\"parental level of education\"]\n",
    "values = [refine_ParentalEdu(x) for x in parental_int]\n",
    "exam_data[\"parent_level\"] =values\n",
    "\n",
    "#Mapping the integer values to string values of Gender \n",
    "gender_int = exam_data[\"gender\"]\n",
    "value = [gender(x) for x in gender_int]\n",
    "exam_data[\"gender_int\"] =value\n",
    "\n",
    "\n",
    "#Adding one more column for the avergae value for math, writing and reading score\n",
    "avg_score= []\n",
    "math_score = exam_data[\"math score\"]\n",
    "read_score = exam_data[\"reading score\"]\n",
    "write_score = exam_data[\"writing score\"]\n",
    "for i in range(len(math_score)):\n",
    "     avg_score.append(avg(math_score[i],read_score[i],write_score[i]))\n",
    "exam_data['avg_score'] = avg_score\n",
    "\n",
    "#checks the test prep\n",
    "test_int = exam_data[\"test preparation course\"]\n",
    "test_value = [test_prep(x) for x in test_int]\n",
    "exam_data[\"test_int\"] =test_value\n",
    "\n",
    "exam_data.head()"
   ]
  },
  {
   "cell_type": "markdown",
   "metadata": {},
   "source": [
    "## Partition\n",
    "Let's check some of the data columns and do the scatter plot for the decision tree. For this partition I want to do Gender and Parental level of education with the target of Average score of writing, reading and Math score. I wanted to do the ethnicity but it is defined as the groups so I guess it won't be a better one."
   ]
  },
  {
   "cell_type": "code",
   "execution_count": 3,
   "metadata": {},
   "outputs": [
    {
     "data": {
      "image/png": "[encoded data removed]",
      "text/plain": [
       "<Figure size 432x288 with 1 Axes>"
      ]
     },
     "metadata": {},
     "output_type": "display_data"
    },
    {
     "data": {
      "image/png": "[encoded data removed]",
      "text/plain": [
       "<Figure size 432x288 with 1 Axes>"
      ]
     },
     "metadata": {},
     "output_type": "display_data"
    },
    {
     "data": {
      "image/png": "[encoded data removed]",
      "text/plain": [
       "<Figure size 648x648 with 1 Axes>"
      ]
     },
     "metadata": {},
     "output_type": "display_data"
    }
   ],
   "source": [
    "# partition the data set by Classification\n",
    "import numpy as np\n",
    "import matplotlib.pyplot as plt\n",
    "#Classification: Average score, gender and Test Completed\n",
    "female= np.ma.masked_where(exam_data['gender_int'] != 0, exam_data['avg_score'])\n",
    "male= np.ma.masked_where(exam_data['gender_int'] != 1, exam_data['avg_score'])\n",
    "# do a scatter plot\n",
    "\n",
    "plt.scatter(female, exam_data['test_int'], color=\"red\")\n",
    "plt.scatter(male, exam_data['test_int'],  color=\"blue\")\n",
    "plt.xlabel(\"Avgscore\")\n",
    "plt.ylabel(\"Test Completed\")\n",
    "plt.legend([\"female\",\"male\"])\n",
    "plt.show()\n",
    "\n",
    "#Classification: Math score, gender and Parent level\n",
    "female= np.ma.masked_where(exam_data['gender_int'] != 0, exam_data['avg_score'])\n",
    "male= np.ma.masked_where(exam_data['gender_int'] != 1, exam_data['avg_score'])\n",
    "# do a scatter plot\n",
    "plt.scatter(female, exam_data['parent_level'], color=\"red\")\n",
    "plt.scatter(male, exam_data['parent_level'],  color=\"blue\")\n",
    "plt.xlabel(\"Avg score\")\n",
    "plt.ylabel(\"ParentLevl\")\n",
    "plt.legend([\"female\",\"male\"])\n",
    "plt.show()\n",
    "\n",
    "female= np.ma.masked_where(exam_data['gender_int'] != 0, exam_data['math score'])\n",
    "male= np.ma.masked_where(exam_data['gender_int'] != 1, exam_data['math score'])\n",
    "# do a scatter plot\n",
    "plt.figure(3,figsize=(9,9))\n",
    "plt.scatter(female, exam_data['reading score'], color=\"red\")\n",
    "plt.scatter(male, exam_data['reading score'],  color=\"blue\")\n",
    "\n",
    "plt.xlabel(\"Math score\")\n",
    "plt.ylabel(\"reading score\")\n",
    "plt.legend([\"female\",\"male\"])\n",
    "plt.show()"
   ]
  },
  {
   "cell_type": "markdown",
   "metadata": {},
   "source": [
    "## Result:\n",
    "Looking at the scatter plot it looks like the Math Score and Reading Score can be more decisive for the gender than that of others. I guess I will see gender, reading score and parental level as X and math score as target. The above scatter plot clarify it more efficiently."
   ]
  },
  {
   "cell_type": "markdown",
   "metadata": {},
   "source": [
    "## Decision Tree"
   ]
  },
  {
   "cell_type": "code",
   "execution_count": 4,
   "metadata": {},
   "outputs": [
    {
     "name": "stdout",
     "output_type": "stream",
     "text": [
      "DecisionTreeClassifier(class_weight=None, criterion='gini', max_depth=None,\n",
      "            max_features=None, max_leaf_nodes=None,\n",
      "            min_impurity_decrease=0.0, min_impurity_split=None,\n",
      "            min_samples_leaf=1, min_samples_split=2,\n",
      "            min_weight_fraction_leaf=0.0, presort=False, random_state=None,\n",
      "            splitter='best')\n"
     ]
    }
   ],
   "source": [
    "# Decision Tree \n",
    "from sklearn.tree import DecisionTreeClassifier\n",
    "X = exam_data[['gender_int','parent_level', 'reading score','test_int']]\n",
    "y = exam_data['math score']\n",
    "\n",
    "tree_classifier = DecisionTreeClassifier()\n",
    "print(tree_classifier.fit(X,y))"
   ]
  },
  {
   "cell_type": "markdown",
   "metadata": {},
   "source": [
    "# Evaluation Matrix"
   ]
  },
  {
   "cell_type": "code",
   "execution_count": 5,
   "metadata": {},
   "outputs": [
    {
     "name": "stdout",
     "output_type": "stream",
     "text": [
      "[[1 0 0 ... 0 0 0]\n",
      " [0 1 0 ... 0 0 0]\n",
      " [0 0 1 ... 0 0 0]\n",
      " ...\n",
      " [0 0 0 ... 3 0 0]\n",
      " [0 0 0 ... 0 2 0]\n",
      " [0 0 0 ... 0 0 4]]\n",
      "Accuracy is  0.673\n",
      "Precision is  0.6998639606022166\n",
      "Sensitivity is  0.673\n",
      "F1 is  0.6720067637650167\n"
     ]
    },
    {
     "name": "stderr",
     "output_type": "stream",
     "text": [
      "C:\\Users\\s525189\\AppData\\Local\\Continuum\\anaconda3\\lib\\site-packages\\sklearn\\metrics\\classification.py:1143: UndefinedMetricWarning: Precision is ill-defined and being set to 0.0 in labels with no predicted samples.\n",
      "  'precision', 'predicted', average, warn_for)\n",
      "C:\\Users\\s525189\\AppData\\Local\\Continuum\\anaconda3\\lib\\site-packages\\sklearn\\metrics\\classification.py:1143: UndefinedMetricWarning: F-score is ill-defined and being set to 0.0 in labels with no predicted samples.\n",
      "  'precision', 'predicted', average, warn_for)\n"
     ]
    }
   ],
   "source": [
    "from sklearn.metrics import confusion_matrix\n",
    "y_predicted = tree_classifier.predict(X)\n",
    "matrix = confusion_matrix(y, y_predicted)\n",
    "print(matrix)\n",
    "from sklearn.metrics import accuracy_score, precision_score, recall_score, f1_score\n",
    "print (\"Accuracy is \", accuracy_score(y, y_predicted))\n",
    "\n",
    "# We have to specify how to combine for the multiclassifications\n",
    "print (\"Precision is \", precision_score(y, y_predicted, average=\"weighted\"))\n",
    "print (\"Sensitivity is \", recall_score(y, y_predicted, average=\"weighted\"))\n",
    "print (\"F1 is \", f1_score(y, y_predicted, average=\"weighted\"))"
   ]
  },
  {
   "cell_type": "markdown",
   "metadata": {},
   "source": [
    "## Result: \n",
    "First, I have done X values with gender, parent level and test preparation course with the math score but it seems like the score is about 2%-3%. So, I added the reading sore in the X and the score hiked to From the matrix and metrices scores went to 69% which is better for this datasets, it is clear that the predicted value for math score is high when it depends on gender, parental level, test completed, and reading score. The given score still low. Might be due to underfitting. But to train model better i could add more feature but it might result overfitting in the data."
   ]
  },
  {
   "cell_type": "markdown",
   "metadata": {},
   "source": [
    "### SVM\n",
    "The decision tree has computed the matrix and looks like nearly 70% of data can be predicted by the above decision tree. Let's see if we use SVM, a multiclassifier to predict the data more accurately. The SVM kernel will be using same X and y values."
   ]
  },
  {
   "cell_type": "code",
   "execution_count": 6,
   "metadata": {},
   "outputs": [
    {
     "name": "stderr",
     "output_type": "stream",
     "text": [
      "C:\\Users\\s525189\\AppData\\Local\\Continuum\\anaconda3\\lib\\site-packages\\sklearn\\svm\\base.py:196: FutureWarning: The default value of gamma will change from 'auto' to 'scale' in version 0.22 to account better for unscaled features. Set gamma explicitly to 'auto' or 'scale' to avoid this warning.\n",
      "  \"avoid this warning.\", FutureWarning)\n"
     ]
    },
    {
     "data": {
      "text/plain": [
       "SVC(C=1.0, cache_size=200, class_weight=None, coef0=0.0,\n",
       "  decision_function_shape='ovr', degree=3, gamma='auto_deprecated',\n",
       "  kernel='rbf', max_iter=-1, probability=False, random_state=None,\n",
       "  shrinking=True, tol=0.001, verbose=False)"
      ]
     },
     "execution_count": 6,
     "metadata": {},
     "output_type": "execute_result"
    }
   ],
   "source": [
    "from sklearn.svm import SVC\n",
    "X = exam_data[['gender_int','parent_level', 'reading score','test_int']]\n",
    "y = exam_data['math score']\n",
    "\n",
    "svm_classifier = SVC(kernel=\"rbf\")\n",
    "svm_classifier.fit(X,y)"
   ]
  },
  {
   "cell_type": "markdown",
   "metadata": {},
   "source": [
    "## Mertices\n",
    "Let's compute the confusion matrix and other scores using svm kernel"
   ]
  },
  {
   "cell_type": "code",
   "execution_count": 7,
   "metadata": {},
   "outputs": [
    {
     "name": "stdout",
     "output_type": "stream",
     "text": [
      "[[1 0 0 ... 0 0 0]\n",
      " [0 0 0 ... 0 0 0]\n",
      " [0 0 1 ... 0 0 0]\n",
      " ...\n",
      " [0 0 0 ... 0 0 1]\n",
      " [0 0 0 ... 0 0 0]\n",
      " [0 0 0 ... 0 0 6]]\n",
      "Accuracy is  0.268\n",
      "Precision is  0.33164202321215525\n",
      "Sensitivity is  0.268\n",
      "F1 is  0.2432595654418108\n"
     ]
    },
    {
     "name": "stderr",
     "output_type": "stream",
     "text": [
      "C:\\Users\\s525189\\AppData\\Local\\Continuum\\anaconda3\\lib\\site-packages\\sklearn\\metrics\\classification.py:1143: UndefinedMetricWarning: Precision is ill-defined and being set to 0.0 in labels with no predicted samples.\n",
      "  'precision', 'predicted', average, warn_for)\n",
      "C:\\Users\\s525189\\AppData\\Local\\Continuum\\anaconda3\\lib\\site-packages\\sklearn\\metrics\\classification.py:1143: UndefinedMetricWarning: F-score is ill-defined and being set to 0.0 in labels with no predicted samples.\n",
      "  'precision', 'predicted', average, warn_for)\n"
     ]
    }
   ],
   "source": [
    "from sklearn.metrics import confusion_matrix\n",
    "y_predicted = svm_classifier.predict(X)\n",
    "matrix = confusion_matrix(y, y_predicted)\n",
    "print(matrix)\n",
    "from sklearn.metrics import accuracy_score, precision_score, recall_score, f1_score\n",
    "print (\"Accuracy is \", accuracy_score(y, y_predicted))\n",
    "print (\"Precision is \", precision_score(y, y_predicted, average=\"weighted\"))\n",
    "print (\"Sensitivity is \", recall_score(y, y_predicted, average=\"weighted\"))\n",
    "print (\"F1 is \", f1_score(y, y_predicted, average=\"weighted\"))"
   ]
  },
  {
   "cell_type": "markdown",
   "metadata": {},
   "source": [
    "## Test Set\n",
    "Let's Create a random test set to validate our model. We will look for the 750 model."
   ]
  },
  {
   "cell_type": "code",
   "execution_count": 8,
   "metadata": {},
   "outputs": [
    {
     "name": "stdout",
     "output_type": "stream",
     "text": [
      "   gender_int  parent_level  test_int  read_score  math_score\n",
      "0           1             4         0           1          87\n",
      "1           0             6         0          87          42\n",
      "2           1             2         1          86           5\n",
      "3           0             4         1          20          48\n",
      "4           1             1         1          82          92\n"
     ]
    }
   ],
   "source": [
    "# create my data values\n",
    "gender = np.random.randint(0, 2, 750)   \n",
    "parent_level = np.random.randint(1, 7, 750)  \n",
    "math_score = np.random.randint(1,100,750) \n",
    "read_score = np.random.randint(1,100,750)\n",
    "test_prep = np.random.randint(0,2,750)\n",
    "\n",
    "\n",
    "\n",
    "# create a dictionary with each feature\n",
    "d = {}\n",
    "d[\"gender_int\"] = gender\n",
    "d[\"parent_level\"] = parent_level\n",
    "d[\"test_int\"] = test_prep\n",
    "d[\"read_score\"] = read_score\n",
    "d[\"math_score\"] = math_score\n",
    "\n",
    "# Create the data frame from the dictionary\n",
    "in_range_df = pd.DataFrame(data=d)\n",
    "print(in_range_df.head())"
   ]
  },
  {
   "cell_type": "markdown",
   "metadata": {},
   "source": [
    "## Metrices:\n",
    "### Lets see using Decision tree\n",
    "Let's see confusion matrix and other metrices on the test sets"
   ]
  },
  {
   "cell_type": "code",
   "execution_count": 11,
   "metadata": {},
   "outputs": [
    {
     "name": "stdout",
     "output_type": "stream",
     "text": [
      "[[5 0 0 ... 0 0 0]\n",
      " [0 8 0 ... 0 0 0]\n",
      " [0 0 6 ... 0 0 0]\n",
      " ...\n",
      " [0 0 0 ... 5 0 0]\n",
      " [0 0 0 ... 0 3 0]\n",
      " [0 0 0 ... 0 0 7]]\n",
      "Accuracy is  0.8386666666666667\n",
      "F1 is  0.8361520122554044\n",
      "Precision is  0.8701250601250601\n",
      "Sensitivity is  0.8386666666666667\n"
     ]
    }
   ],
   "source": [
    "from sklearn.tree import DecisionTreeClassifier\n",
    "X = in_range_df[['gender_int','parent_level', 'read_score','test_int']]\n",
    "y = in_range_df['math_score']\n",
    "tree_classifier = DecisionTreeClassifier()\n",
    "(tree_classifier.fit(X,y))\n",
    "from sklearn.metrics import confusion_matrix\n",
    "y_predicted = tree_classifier.predict(X)\n",
    "matrix = confusion_matrix(y, y_predicted)\n",
    "print(matrix)\n",
    "from sklearn.metrics import accuracy_score, precision_score, recall_score, f1_score\n",
    "print (\"Accuracy is \", accuracy_score(y, y_predicted))\n",
    "print (\"F1 is \", f1_score(y, y_predicted, average=\"weighted\"))\n",
    "print (\"Precision is \", precision_score(y, y_predicted, average=\"weighted\"))\n",
    "print (\"Sensitivity is \", recall_score(y, y_predicted, average=\"weighted\"))"
   ]
  },
  {
   "cell_type": "markdown",
   "metadata": {},
   "source": [
    "## Result:\n",
    "Looking at the test set result and metrices, it is a good score. More likely ~85% of the predictive set can be predicted through decision tree which is awesome. Maybe I have taken the better values for X an y."
   ]
  },
  {
   "cell_type": "markdown",
   "metadata": {},
   "source": [
    "## Metrices:\n",
    "#### Using SVM\n",
    "Let's compute the matrix and other score using SVM"
   ]
  },
  {
   "cell_type": "code",
   "execution_count": 12,
   "metadata": {},
   "outputs": [
    {
     "name": "stderr",
     "output_type": "stream",
     "text": [
      "C:\\Users\\s525189\\AppData\\Local\\Continuum\\anaconda3\\lib\\site-packages\\sklearn\\svm\\base.py:196: FutureWarning: The default value of gamma will change from 'auto' to 'scale' in version 0.22 to account better for unscaled features. Set gamma explicitly to 'auto' or 'scale' to avoid this warning.\n",
      "  \"avoid this warning.\", FutureWarning)\n"
     ]
    },
    {
     "name": "stdout",
     "output_type": "stream",
     "text": [
      "[[0 0 0 ... 0 0 1]\n",
      " [0 2 0 ... 0 0 0]\n",
      " [0 0 0 ... 0 0 0]\n",
      " ...\n",
      " [0 0 0 ... 1 0 0]\n",
      " [0 0 0 ... 0 0 0]\n",
      " [0 0 0 ... 0 0 6]]\n",
      "Accuracy is  0.4186666666666667\n",
      "F1 is  0.3624881361964158\n",
      "Precision is  0.4318199514833266\n",
      "Sensitivity is  0.4186666666666667\n"
     ]
    },
    {
     "name": "stderr",
     "output_type": "stream",
     "text": [
      "C:\\Users\\s525189\\AppData\\Local\\Continuum\\anaconda3\\lib\\site-packages\\sklearn\\metrics\\classification.py:1143: UndefinedMetricWarning: F-score is ill-defined and being set to 0.0 in labels with no predicted samples.\n",
      "  'precision', 'predicted', average, warn_for)\n",
      "C:\\Users\\s525189\\AppData\\Local\\Continuum\\anaconda3\\lib\\site-packages\\sklearn\\metrics\\classification.py:1143: UndefinedMetricWarning: Precision is ill-defined and being set to 0.0 in labels with no predicted samples.\n",
      "  'precision', 'predicted', average, warn_for)\n"
     ]
    }
   ],
   "source": [
    "X = in_range_df[['gender_int','parent_level', 'read_score','test_int']]\n",
    "y = in_range_df['math_score']\n",
    "svm_classifier = SVC(kernel=\"rbf\")\n",
    "svm_classifier.fit(X,y)\n",
    "from sklearn.metrics import confusion_matrix\n",
    "y_predicted =  svm_classifier.predict(X)\n",
    "matrix = confusion_matrix(y, y_predicted)\n",
    "print(matrix)\n",
    "from sklearn.metrics import accuracy_score, precision_score, recall_score, f1_score\n",
    "print (\"Accuracy is \", accuracy_score(y, y_predicted))\n",
    "print (\"F1 is \", f1_score(y, y_predicted, average=\"weighted\"))\n",
    "print (\"Precision is \", precision_score(y, y_predicted, average=\"weighted\"))\n",
    "print (\"Sensitivity is \", recall_score(y, y_predicted, average=\"weighted\"))"
   ]
  },
  {
   "cell_type": "markdown",
   "metadata": {},
   "source": [
    "### Result:\n",
    "Looking at the Result of SVM, it looks luke only 40-45 percent of the data can be predicted which is lesser than that of Decision tree prediction. "
   ]
  },
  {
   "cell_type": "markdown",
   "metadata": {},
   "source": [
    "   ## Things that have been learned:\n",
    "1. While partitioning the dataset based on gender and average score, it is less likely to be             predictively so I have to add more feature to train the model more accurately.\n",
    "2. The gender, reading score and parental level values has predicted the math score 70% of the time       than that of other values for X.\n",
    "3. The SVM predicted 40% of the time for the same value of X as of decision tree. It looks like          Decision tree works fine with the model for the prediciton rather than Support Vector Machine.\n",
    "4. Looking at the test set, the matrix and metrices is pretty good using Decision tree than that of     SVM. The decision tree predicted ~85% of the time correctly whereas SVM predicted ~40% of the       time."
   ]
  },
  {
   "cell_type": "code",
   "execution_count": null,
   "metadata": {},
   "outputs": [],
   "source": []
  }
 ],
 "metadata": {
  "kernelspec": {
   "display_name": "Python 3 (Spyder)",
   "language": "python3",
   "name": "python3"
  },
  "language_info": {
   "codemirror_mode": {
    "name": "ipython",
    "version": 3
   },
   "file_extension": ".py",
   "mimetype": "text/x-python",
   "name": "python",
   "nbconvert_exporter": "python",
   "pygments_lexer": "ipython3",
   "version": "3.7.1"
  }
 },
 "nbformat": 4,
 "nbformat_minor": 2
}
