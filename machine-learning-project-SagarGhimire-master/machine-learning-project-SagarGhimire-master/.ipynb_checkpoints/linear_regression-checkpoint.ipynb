{
 "cells": [
  {
   "cell_type": "markdown",
   "metadata": {},
   "source": [
    "## Reading the datasets and creating the sets"
   ]
  },
  {
   "cell_type": "code",
   "execution_count": 9,
   "metadata": {},
   "outputs": [
    {
     "name": "stdout",
     "output_type": "stream",
     "text": [
      "750 250\n",
      "     gender race/ethnicity      ...      reading score writing score\n",
      "894  female        group E      ...                 62            69\n",
      "941  female        group D      ...                 91            96\n",
      "285    male        group B      ...                 82            82\n",
      "462  female        group E      ...                 70            76\n",
      "370    male        group E      ...                 77            71\n",
      "\n",
      "[5 rows x 8 columns]\n",
      "     gender race/ethnicity      ...      reading score writing score\n",
      "131    male        group C      ...                 37            40\n",
      "203  female        group B      ...                 69            68\n",
      "50     male        group E      ...                 55            48\n",
      "585  female        group C      ...                 76            76\n",
      "138  female        group C      ...                 66            67\n",
      "\n",
      "[5 rows x 8 columns]\n"
     ]
    }
   ],
   "source": [
    "import pandas as pd\n",
    "from sklearn.model_selection import train_test_split\n",
    "exam_data = pd.read_csv(\"StudentsPerformance.csv\")\n",
    "\n",
    "\n"
   ]
  },
  {
   "cell_type": "markdown",
   "metadata": {},
   "source": [
    "## Cleaning the datasets "
   ]
  },
  {
   "cell_type": "code",
   "execution_count": 19,
   "metadata": {},
   "outputs": [
    {
     "name": "stdout",
     "output_type": "stream",
     "text": [
      "[\"bachelor's degree\" 'some college' \"master's degree\" \"associate's degree\"\n",
      " 'high school' 'some high school']\n"
     ]
    }
   ],
   "source": [
    "print(exam_data[\"parental level of education\"].unique())\n",
    "\n",
    "# Function that would map the string value of parental education to interger\n",
    "def refine_ParentalEdu(value):\n",
    "    count =0\n",
    "    if(value == \"master's degree\"):\n",
    "        count = 6\n",
    "    elif (value == \"bachelor's degree\"):\n",
    "        count = 5\n",
    "    elif(value == \"associate's degree\"):\n",
    "        count =4\n",
    "    elif(value == \"some college\"):\n",
    "        count =3\n",
    "    elif(value == \"high school\"):\n",
    "        count =2\n",
    "    else:\n",
    "        count =1\n",
    "    return count\n",
    "\n",
    "\n",
    "def gender(val):\n",
    "    if(val==\"female\"):\n",
    "        return 0\n",
    "    else:\n",
    "        return 1\n",
    "\n",
    "#Mapping the integer values to string values of Parent education for the linear Regression\n",
    "parental_int = exam_data[\"parental level of education\"]\n",
    "values = [refine_ParentalEdu(x) for x in parental_int]\n",
    "exam_data[\"parent_level\"] =values\n",
    "\n",
    "#Mapping the integer values to string values of Gender for the linear Regression\n",
    "gender_int = exam_data[\"gender\"]\n",
    "value = [gender(x) for x in gender_int]\n",
    "exam_data[\"gender_int\"] =value"
   ]
  },
  {
   "cell_type": "markdown",
   "metadata": {},
   "source": [
    "## Splitting the datasets to train and test model"
   ]
  },
  {
   "cell_type": "code",
   "execution_count": 20,
   "metadata": {},
   "outputs": [
    {
     "name": "stdout",
     "output_type": "stream",
     "text": [
      "750 250\n",
      "     gender race/ethnicity    ...     parent_level gender_int\n",
      "894  female        group E    ...                4          0\n",
      "941  female        group D    ...                6          0\n",
      "285    male        group B    ...                4          1\n",
      "462  female        group E    ...                3          0\n",
      "370    male        group E    ...                3          1\n",
      "\n",
      "[5 rows x 10 columns]\n",
      "     gender race/ethnicity    ...     parent_level gender_int\n",
      "131    male        group C    ...                1          1\n",
      "203  female        group B    ...                4          0\n",
      "50     male        group E    ...                3          1\n",
      "585  female        group C    ...                4          0\n",
      "138  female        group C    ...                4          0\n",
      "\n",
      "[5 rows x 10 columns]\n"
     ]
    }
   ],
   "source": [
    "train_set, test_set = train_test_split(exam_data, test_size=0.25, random_state=123)\n",
    "print(len(train_set), len(test_set))\n",
    "print(train_set.head())\n",
    "print(test_set.head())\n",
    "working_set1 = train_set.copy()"
   ]
  },
  {
   "cell_type": "markdown",
   "metadata": {},
   "source": [
    "## Feature for X and Y\n",
    "Looking at the datasets, I would like to see how does Parental Education and Math Score is related. Well, I think there is something realted between the Parental Education level and student performance in Math exam or maybe not. Parents education could impact the children score. "
   ]
  },
  {
   "cell_type": "code",
   "execution_count": 21,
   "metadata": {},
   "outputs": [
    {
     "name": "stdout",
     "output_type": "stream",
     "text": [
      "LinearRegression(copy_X=True, fit_intercept=True, n_jobs=None,\n",
      "         normalize=False)\n",
      "0.01570145862054706\n",
      "mean squared error is  222.4838848338551\n"
     ]
    }
   ],
   "source": [
    "#Performing Linear Regression\n",
    "from sklearn.linear_model import LinearRegression\n",
    "reg = LinearRegression()\n",
    "X = working_set1[[\"parent_level\"]]\n",
    "Y = working_set1[\"math score\"]\n",
    "print(reg.fit(X, Y))\n",
    "print(reg.score(X,Y))\n",
    "\n",
    "from sklearn.metrics import mean_squared_error\n",
    "y_pred = reg.predict(X)\n",
    "mse = mean_squared_error(Y, y_pred)\n",
    "print(\"mean squared error is \",  mse)"
   ]
  },
  {
   "cell_type": "markdown",
   "metadata": {},
   "source": [
    "### Linear Regression Analysis:\n",
    "This looks like only 1.5% of the parent education level could predict the correct Math score. Looking at the mean square error, it is 222.5ish which doesn't look good. Let's see if we can do better. "
   ]
  },
  {
   "cell_type": "code",
   "execution_count": 31,
   "metadata": {},
   "outputs": [
    {
     "name": "stdout",
     "output_type": "stream",
     "text": [
      "LinearRegression(copy_X=True, fit_intercept=True, n_jobs=None,\n",
      "         normalize=False)\n",
      "0.8261985760520337\n",
      "mean squared error is  39.284845363488756\n"
     ]
    }
   ],
   "source": [
    "X1=working_set1[[\"parent_level\",\"gender_int\",\"writing score\"]]\n",
    "Y1 = working_set1[\"math score\"]\n",
    "print(reg.fit(X1, Y1))\n",
    "print(reg.score(X1,Y1))\n",
    "from sklearn.metrics import mean_squared_error\n",
    "y_pred1 = reg.predict(X1)\n",
    "mse1 = mean_squared_error(Y1, y_pred1)\n",
    "print(\"mean squared error is \",  mse1)"
   ]
  },
  {
   "cell_type": "markdown",
   "metadata": {},
   "source": [
    "### Analysis:\n",
    "It looks like gender, writing score, and parental level of education plays a great role in determining the math score. The R^2 value is 82% from 1.5% which is amazing. Also the mean squared error is 39.28 which it less."
   ]
  },
  {
   "cell_type": "markdown",
   "metadata": {},
   "source": [
    "## Let's see the test sets"
   ]
  },
  {
   "cell_type": "code",
   "execution_count": 36,
   "metadata": {},
   "outputs": [
    {
     "name": "stdout",
     "output_type": "stream",
     "text": [
      "LinearRegression(copy_X=True, fit_intercept=True, n_jobs=None,\n",
      "         normalize=False)\n",
      "0.8463670333428962\n",
      "mean squared error is  36.9079997670408\n"
     ]
    }
   ],
   "source": [
    "working_set2 = test_set.copy()\n",
    "X2 = working_set2[[\"parent_level\",\"gender_int\",\"writing score\"]]\n",
    "Y2 = working_set2[\"math score\"]\n",
    "print(reg.fit(X2, Y2))\n",
    "print(reg.score(X2,Y2))\n",
    "from sklearn.metrics import mean_squared_error\n",
    "y_pred2 = reg.predict(X2)\n",
    "mse2 = mean_squared_error(Y2, y_pred2)\n",
    "print(\"mean squared error is \",  mse2)"
   ]
  },
  {
   "cell_type": "markdown",
   "metadata": {},
   "source": [
    "## Analysis for Test Set:\n",
    "The test set looks good with 84.7% which is 2.5% more than the training set. Also the mean square error is 36.9 which is 3 unit less than the training set. "
   ]
  },
  {
   "cell_type": "markdown",
   "metadata": {},
   "source": [
    "## Things that I have learned:\n",
    "1. Computing the linear regression should need both numeric value and all the string values should be mapped to numeric values.\n",
    "2. I thought that parental level of education could impact the child's math score. The results shows that it won't affect a lot. Looks like only 1.5% were affected. But when the gender and writing score is taken in consideration, it looks like the math score is affected by 82%, which is amazing and the mean square error is decreased to 39 from 222.\n",
    "3. The test set shows good result. It has 84.7% which is 2.5% more than the training set. Also the mean square error is 36.9 which is 3 unit less than the training set."
   ]
  },
  {
   "cell_type": "code",
   "execution_count": null,
   "metadata": {},
   "outputs": [],
   "source": []
  }
 ],
 "metadata": {
  "kernelspec": {
   "display_name": "Python 3 (Spyder)",
   "language": "python3",
   "name": "python3"
  },
  "language_info": {
   "codemirror_mode": {
    "name": "ipython",
    "version": 3
   },
   "file_extension": ".py",
   "mimetype": "text/x-python",
   "name": "python",
   "nbconvert_exporter": "python",
   "pygments_lexer": "ipython3",
   "version": "3.7.1"
  }
 },
 "nbformat": 4,
 "nbformat_minor": 2
}
